{
 "cells": [
  {
   "cell_type": "code",
   "execution_count": 13,
   "id": "e78c2121-808c-4aa2-b166-6e335a7abe6b",
   "metadata": {},
   "outputs": [],
   "source": [
    "import glob\n",
    "import pandas as pd\n",
    "import numpy as np\n",
    "import os\n",
    "\n",
    "from sklearn.model_selection import KFold\n",
    "from iterstrat.ml_stratifiers import MultilabelStratifiedKFold\n",
    "\n",
    "import torch\n",
    "from torch import nn\n",
    "from torch.utils.data import Dataset, DataLoader\n",
    "from transformers import AutoConfig, AutoModel, AutoTokenizer, logging"
   ]
  },
  {
   "cell_type": "markdown",
   "id": "99332f2d-756f-4925-8b55-8f00a45dd1a9",
   "metadata": {},
   "source": [
    "### Settings for the stuff below"
   ]
  },
  {
   "cell_type": "code",
   "execution_count": 8,
   "id": "7017d6ac-05b8-4392-9ebb-50318a21ae20",
   "metadata": {},
   "outputs": [],
   "source": [
    "output_labels = ['O', 'B-Lead', 'I-Lead', 'B-Position', 'I-Position', 'B-Claim', 'I-Claim', 'B-Counterclaim', 'I-Counterclaim', \n",
    "          'B-Rebuttal', 'I-Rebuttal', 'B-Evidence', 'I-Evidence', 'B-Concluding Statement', 'I-Concluding Statement']\n",
    "\n",
    "class settings:\n",
    "    DATA_PATH   = '../input/feedback-prize-2021/'\n",
    "    WORKERS     = os.cpu_count()\n",
    "    MAX_TOK_LEN = 512\n",
    "    STRIDE      = 256\n",
    "    BATCH       = 4\n",
    "    LR          = [2.5e-05, 2.5e-05, 2.5e-06, 2.5e-07, 2.5e-07]\n",
    "    GRAD_NORM   = 10\n",
    "    EPOCH       = 5\n",
    "    FOLD        = 3\n",
    "\n",
    "    TARGET_ID_MAP = {label:i for i,label in enumerate(output_labels)}\n",
    "    ID_TARGET_MAP = {v:k for k,v in TARGET_ID_MAP.items()}\n",
    "\n",
    "    DEVICE = ('cuda' if torch.cuda.is_available() else 'cpu')\n",
    "\n",
    "    MODEL_BASE_PATH = '../input/model-bin-fbp/'\n",
    "    MODEL_NAME      = 'roberta-base'\n",
    "    MODEL_PATH      = 'model'\n",
    "    WEIGHTS_PATH    = [f'fbp_model_{fold}.pt' for fold in range(5)]"
   ]
  },
  {
   "cell_type": "markdown",
   "id": "96a4bd4c-3ff5-4fe5-ad89-0cdfa09d8a97",
   "metadata": {},
   "source": [
    "### Download pretrained models from huggingface\n",
    "\n",
    "- Download pretrained models from huggingface. The competition doesn't allow notebooks with internet access to be submitted. You have to download the model first and upload it to Kaggle."
   ]
  },
  {
   "cell_type": "code",
   "execution_count": null,
   "id": "082bc5c3-6a7b-4319-8785-d77b79e5d44f",
   "metadata": {},
   "outputs": [],
   "source": [
    "# Download pretrained model\n",
    "class settings():\n",
    "    MODEL_PATH='./'\n",
    "    MODEL_NAME='roberta-base'\n",
    "\n",
    "os.mkdir(settings.MODEL_PATH)\n",
    "\n",
    "tokenizer = AutoTokenizer.from_pretrained(settings.MODEL_NAME, add_prefix_space=True)\n",
    "tokenizer.save_pretrained(settings.MODEL_PATH)\n",
    "\n",
    "config_model = AutoConfig.from_pretrained(settings.MODEL_NAME) \n",
    "config_model.save_pretrained(settings.MODEL_PATH)\n",
    "\n",
    "backbone = AutoModel.from_pretrained(settings.MODEL_NAME)\n",
    "backbone.save_pretrained(settings.MODEL_PATH)"
   ]
  },
  {
   "cell_type": "markdown",
   "id": "f8c0b07d-0890-4d51-83c2-ece1d57813aa",
   "metadata": {},
   "source": [
    "### Preprocessing the input data\n",
    "\n",
    "- The tagged data doesn't contain all of the words in the corresponding file.\n",
    "- I beleive this information might be useful, so I preprocess the data to create a new labeled dataset that contains all of the words and tags per file in a single Pandas row."
   ]
  },
  {
   "cell_type": "code",
   "execution_count": 5,
   "id": "4ea4faa8-b727-463a-aec2-a273826ef41c",
   "metadata": {},
   "outputs": [],
   "source": [
    "def read_file(id: str, mode: str, split: bool=True):\n",
    "    contents = None\n",
    "\n",
    "    folder = os.path.join(settings.DATA_PATH, mode)\n",
    "    fp = os.path.join(folder, f'{id}.txt')\n",
    "\n",
    "    with open(fp, 'r', encoding='utf-8') as f:\n",
    "        contents = f.read()\n",
    "        \n",
    "    if split:\n",
    "        contents = contents.split()\n",
    "\n",
    "    return contents"
   ]
  },
  {
   "cell_type": "code",
   "execution_count": 6,
   "id": "e61e21ef-8727-4ae3-97ec-9041bccc3ba6",
   "metadata": {},
   "outputs": [],
   "source": [
    "files = glob.glob('../input/feedback-prize-2021/train/*')\n",
    "df = pd.read_csv('../input/feedback-prize-2021/train.csv')\n",
    "ids = [f.split('\\\\')[-1][:-4] for f in files]"
   ]
  },
  {
   "cell_type": "code",
   "execution_count": 9,
   "id": "2d43cb16-9153-4fb2-8820-ecab1dd12a3c",
   "metadata": {},
   "outputs": [],
   "source": [
    "results = {\n",
    "    'id':[],\n",
    "    'split_text':[],\n",
    "    'labels':[]\n",
    "}\n",
    "for id in ids:\n",
    "    split_text = read_file(id, 'train')\n",
    "\n",
    "    fltr = df.id == id\n",
    "    _ps = list([(list(map(int, x.split())),y) for x,y in df.loc[fltr,['predictionstring', 'discourse_type']].values])\n",
    "    ps = []\n",
    "    for lst, typ in _ps:\n",
    "        fixed_ps = {}\n",
    "        for i, elm in enumerate(lst):\n",
    "            custom_typ = f'B-{typ}' if i==0 else f'I-{typ}'\n",
    "            target_id = settings.TARGET_ID_MAP[custom_typ]\n",
    "            fixed_ps[elm] = target_id\n",
    "        ps.append(fixed_ps)\n",
    "\n",
    "    final_ps = {}\n",
    "    for tmp in ps:\n",
    "        final_ps.update(tmp)\n",
    "\n",
    "    labels = []\n",
    "    for i,_ in enumerate(split_text):\n",
    "        if i in final_ps:\n",
    "            labels.append(final_ps[i])\n",
    "        else:\n",
    "            labels.append(0)\n",
    "\n",
    "\n",
    "    results['id'].append(id)\n",
    "    results['split_text'].append(split_text)\n",
    "    results['labels'].append(labels)"
   ]
  },
  {
   "cell_type": "code",
   "execution_count": 66,
   "id": "9bd751f4-8c2a-4ff8-9b8d-8802f256d985",
   "metadata": {},
   "outputs": [],
   "source": [
    "pd.DataFrame(results).to_pickle('id_splittext_labels_df.pkl')"
   ]
  },
  {
   "cell_type": "code",
   "execution_count": 10,
   "id": "10eca8ed-4517-480c-bf6e-a032d7623db1",
   "metadata": {},
   "outputs": [
    {
     "data": {
      "text/html": [
       "<div>\n",
       "<style scoped>\n",
       "    .dataframe tbody tr th:only-of-type {\n",
       "        vertical-align: middle;\n",
       "    }\n",
       "\n",
       "    .dataframe tbody tr th {\n",
       "        vertical-align: top;\n",
       "    }\n",
       "\n",
       "    .dataframe thead th {\n",
       "        text-align: right;\n",
       "    }\n",
       "</style>\n",
       "<table border=\"1\" class=\"dataframe\">\n",
       "  <thead>\n",
       "    <tr style=\"text-align: right;\">\n",
       "      <th></th>\n",
       "      <th>id</th>\n",
       "      <th>split_text</th>\n",
       "      <th>labels</th>\n",
       "    </tr>\n",
       "  </thead>\n",
       "  <tbody>\n",
       "    <tr>\n",
       "      <th>0</th>\n",
       "      <td>0000D23A521A</td>\n",
       "      <td>[Some, people, belive, that, the, so, called, ...</td>\n",
       "      <td>[3, 4, 4, 4, 4, 4, 4, 4, 4, 4, 4, 4, 4, 4, 4, ...</td>\n",
       "    </tr>\n",
       "    <tr>\n",
       "      <th>1</th>\n",
       "      <td>00066EA9880D</td>\n",
       "      <td>[Driverless, cars, are, exaclty, what, you, wo...</td>\n",
       "      <td>[1, 2, 2, 2, 2, 2, 2, 2, 2, 2, 2, 2, 2, 2, 2, ...</td>\n",
       "    </tr>\n",
       "    <tr>\n",
       "      <th>2</th>\n",
       "      <td>000E6DE9E817</td>\n",
       "      <td>[Dear:, Principal, I, am, arguing, against, th...</td>\n",
       "      <td>[0, 0, 3, 4, 4, 4, 4, 4, 4, 0, 7, 8, 8, 8, 8, ...</td>\n",
       "    </tr>\n",
       "    <tr>\n",
       "      <th>3</th>\n",
       "      <td>001552828BD0</td>\n",
       "      <td>[Would, you, be, able, to, give, your, car, up...</td>\n",
       "      <td>[1, 2, 2, 2, 2, 2, 2, 2, 2, 2, 2, 2, 2, 2, 2, ...</td>\n",
       "    </tr>\n",
       "    <tr>\n",
       "      <th>4</th>\n",
       "      <td>0016926B079C</td>\n",
       "      <td>[I, think, that, students, would, benefit, fro...</td>\n",
       "      <td>[3, 4, 4, 4, 4, 4, 4, 4, 4, 4, 5, 6, 6, 6, 6, ...</td>\n",
       "    </tr>\n",
       "    <tr>\n",
       "      <th>...</th>\n",
       "      <td>...</td>\n",
       "      <td>...</td>\n",
       "      <td>...</td>\n",
       "    </tr>\n",
       "    <tr>\n",
       "      <th>15589</th>\n",
       "      <td>FFF1442D6698</td>\n",
       "      <td>[Every, student, looks, forward, to, summer, b...</td>\n",
       "      <td>[1, 2, 2, 2, 2, 2, 2, 2, 2, 2, 2, 2, 2, 2, 2, ...</td>\n",
       "    </tr>\n",
       "    <tr>\n",
       "      <th>15590</th>\n",
       "      <td>FFF1ED4F8544</td>\n",
       "      <td>[Many, citizens, argue, that, the, Electoral, ...</td>\n",
       "      <td>[1, 2, 2, 2, 2, 2, 2, 2, 2, 2, 2, 2, 2, 2, 2, ...</td>\n",
       "    </tr>\n",
       "    <tr>\n",
       "      <th>15591</th>\n",
       "      <td>FFF868E06176</td>\n",
       "      <td>[Every, summer, break,, students, are, given, ...</td>\n",
       "      <td>[1, 2, 2, 2, 2, 2, 2, 2, 2, 2, 2, 2, 2, 2, 2, ...</td>\n",
       "    </tr>\n",
       "    <tr>\n",
       "      <th>15592</th>\n",
       "      <td>FFFD0AF13501</td>\n",
       "      <td>[In, the, article, \"A, Cowboy, Who, Rode, the,...</td>\n",
       "      <td>[0, 0, 0, 0, 0, 0, 0, 0, 0, 0, 0, 0, 0, 0, 0, ...</td>\n",
       "    </tr>\n",
       "    <tr>\n",
       "      <th>15593</th>\n",
       "      <td>FFFF80B8CC2F</td>\n",
       "      <td>[Venus, is, a, planet, what, belong, the, Syst...</td>\n",
       "      <td>[11, 12, 12, 12, 12, 12, 12, 12, 12, 12, 12, 1...</td>\n",
       "    </tr>\n",
       "  </tbody>\n",
       "</table>\n",
       "<p>15594 rows × 3 columns</p>\n",
       "</div>"
      ],
      "text/plain": [
       "                 id                                         split_text  \\\n",
       "0      0000D23A521A  [Some, people, belive, that, the, so, called, ...   \n",
       "1      00066EA9880D  [Driverless, cars, are, exaclty, what, you, wo...   \n",
       "2      000E6DE9E817  [Dear:, Principal, I, am, arguing, against, th...   \n",
       "3      001552828BD0  [Would, you, be, able, to, give, your, car, up...   \n",
       "4      0016926B079C  [I, think, that, students, would, benefit, fro...   \n",
       "...             ...                                                ...   \n",
       "15589  FFF1442D6698  [Every, student, looks, forward, to, summer, b...   \n",
       "15590  FFF1ED4F8544  [Many, citizens, argue, that, the, Electoral, ...   \n",
       "15591  FFF868E06176  [Every, summer, break,, students, are, given, ...   \n",
       "15592  FFFD0AF13501  [In, the, article, \"A, Cowboy, Who, Rode, the,...   \n",
       "15593  FFFF80B8CC2F  [Venus, is, a, planet, what, belong, the, Syst...   \n",
       "\n",
       "                                                  labels  \n",
       "0      [3, 4, 4, 4, 4, 4, 4, 4, 4, 4, 4, 4, 4, 4, 4, ...  \n",
       "1      [1, 2, 2, 2, 2, 2, 2, 2, 2, 2, 2, 2, 2, 2, 2, ...  \n",
       "2      [0, 0, 3, 4, 4, 4, 4, 4, 4, 0, 7, 8, 8, 8, 8, ...  \n",
       "3      [1, 2, 2, 2, 2, 2, 2, 2, 2, 2, 2, 2, 2, 2, 2, ...  \n",
       "4      [3, 4, 4, 4, 4, 4, 4, 4, 4, 4, 5, 6, 6, 6, 6, ...  \n",
       "...                                                  ...  \n",
       "15589  [1, 2, 2, 2, 2, 2, 2, 2, 2, 2, 2, 2, 2, 2, 2, ...  \n",
       "15590  [1, 2, 2, 2, 2, 2, 2, 2, 2, 2, 2, 2, 2, 2, 2, ...  \n",
       "15591  [1, 2, 2, 2, 2, 2, 2, 2, 2, 2, 2, 2, 2, 2, 2, ...  \n",
       "15592  [0, 0, 0, 0, 0, 0, 0, 0, 0, 0, 0, 0, 0, 0, 0, ...  \n",
       "15593  [11, 12, 12, 12, 12, 12, 12, 12, 12, 12, 12, 1...  \n",
       "\n",
       "[15594 rows x 3 columns]"
      ]
     },
     "execution_count": 10,
     "metadata": {},
     "output_type": "execute_result"
    }
   ],
   "source": [
    "pd.DataFrame(results)"
   ]
  },
  {
   "cell_type": "markdown",
   "id": "6457269c-fbb8-4083-906b-9c42d673ad9d",
   "metadata": {},
   "source": [
    "### Folding the original data\n",
    "\n",
    "- One of the users on Kaggle showed that creating good folds can improve the models performance. This the that code copied verbatim"
   ]
  },
  {
   "cell_type": "code",
   "execution_count": null,
   "id": "50f4674a-a75c-4b92-b66f-4aa95c523baa",
   "metadata": {},
   "outputs": [
    {
     "name": "stdout",
     "output_type": "stream",
     "text": [
      "12477 3117\n",
      "12474 3120\n",
      "12475 3119\n",
      "12475 3119\n",
      "12475 3119\n",
      "0    28997\n",
      "2    28968\n",
      "3    28904\n",
      "1    28737\n",
      "4    28687\n",
      "Name: kfold, dtype: int64\n"
     ]
    }
   ],
   "source": [
    "df = pd.read_csv(\"../input/feedback-prize-2021/train.csv\")\n",
    "\n",
    "dfx = pd.get_dummies(df, columns=[\"discourse_type\"]).groupby([\"id\"], as_index=False).sum()\n",
    "cols = [c for c in dfx.columns if c.startswith(\"discourse_type_\") or c == \"id\" and c != \"discourse_type_num\"]\n",
    "dfx = dfx[cols]\n",
    "\n",
    "mskf = MultilabelStratifiedKFold(n_splits=5, shuffle=True, random_state=42)\n",
    "labels = [c for c in dfx.columns if c != \"id\"]\n",
    "dfx_labels = dfx[labels]\n",
    "dfx[\"kfold\"] = -1\n",
    "\n",
    "for fold, (trn_, val_) in enumerate(mskf.split(dfx, dfx_labels)):\n",
    "    print(len(trn_), len(val_))\n",
    "    dfx.loc[val_, \"kfold\"] = fold\n",
    "\n",
    "df = df.merge(dfx[[\"id\", \"kfold\"]], on=\"id\", how=\"left\")\n",
    "print(df.kfold.value_counts())\n",
    "df.to_csv(\"train_folds.csv\", index=False)"
   ]
  },
  {
   "cell_type": "code",
   "execution_count": null,
   "id": "eb120e08-3b6c-46d7-9ac1-6827f6650c7b",
   "metadata": {},
   "outputs": [],
   "source": []
  },
  {
   "cell_type": "code",
   "execution_count": null,
   "id": "df86f067-513a-4a3e-a0b3-805b45382f88",
   "metadata": {},
   "outputs": [],
   "source": []
  },
  {
   "cell_type": "code",
   "execution_count": null,
   "id": "1140e552-f842-432a-99a9-8ed3118f30f3",
   "metadata": {},
   "outputs": [],
   "source": []
  },
  {
   "cell_type": "code",
   "execution_count": null,
   "id": "2fa9e3e9-a965-4113-915b-5280faa99e50",
   "metadata": {},
   "outputs": [],
   "source": []
  },
  {
   "cell_type": "code",
   "execution_count": null,
   "id": "3ec715f5-2801-48ef-bd4e-43a5cc55ce07",
   "metadata": {},
   "outputs": [],
   "source": []
  },
  {
   "cell_type": "code",
   "execution_count": null,
   "id": "6554d0cb-d2d6-4c98-8764-36308050baa6",
   "metadata": {},
   "outputs": [],
   "source": []
  },
  {
   "cell_type": "code",
   "execution_count": null,
   "id": "66fcc521-663e-4974-a60b-48639ef8743d",
   "metadata": {},
   "outputs": [],
   "source": []
  },
  {
   "cell_type": "code",
   "execution_count": null,
   "id": "3b2f58df-7150-4684-821e-7c7a4db61e86",
   "metadata": {},
   "outputs": [],
   "source": []
  },
  {
   "cell_type": "code",
   "execution_count": null,
   "id": "c19f3b69-5d37-4fde-afde-7d67db42f8f5",
   "metadata": {},
   "outputs": [],
   "source": []
  },
  {
   "cell_type": "code",
   "execution_count": null,
   "id": "b1d7c35b-8a03-4e8d-ad97-9b0359abbbec",
   "metadata": {},
   "outputs": [],
   "source": []
  },
  {
   "cell_type": "code",
   "execution_count": null,
   "id": "109d68fa-c366-4cd4-ab4a-1acf12d4c1b2",
   "metadata": {},
   "outputs": [],
   "source": []
  },
  {
   "cell_type": "code",
   "execution_count": null,
   "id": "4eafe8db-291b-44d1-a2ff-2fd070d9e1d5",
   "metadata": {},
   "outputs": [],
   "source": []
  },
  {
   "cell_type": "code",
   "execution_count": null,
   "id": "514e72de-62fb-4ce8-beb7-75e922a3f96a",
   "metadata": {},
   "outputs": [],
   "source": []
  },
  {
   "cell_type": "code",
   "execution_count": null,
   "id": "a8cdd331-b04e-4249-9775-18bc014f404d",
   "metadata": {},
   "outputs": [],
   "source": []
  }
 ],
 "metadata": {
  "kernelspec": {
   "display_name": "Python 3",
   "language": "python",
   "name": "python3"
  },
  "language_info": {
   "codemirror_mode": {
    "name": "ipython",
    "version": 3
   },
   "file_extension": ".py",
   "mimetype": "text/x-python",
   "name": "python",
   "nbconvert_exporter": "python",
   "pygments_lexer": "ipython3",
   "version": "3.8.5"
  }
 },
 "nbformat": 4,
 "nbformat_minor": 5
}
