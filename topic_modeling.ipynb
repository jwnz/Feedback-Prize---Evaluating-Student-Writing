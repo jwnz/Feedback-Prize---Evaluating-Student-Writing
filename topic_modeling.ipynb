{
 "cells": [
  {
   "cell_type": "markdown",
   "id": "a25cb932-5b66-45e3-9cfe-ae6139814d84",
   "metadata": {},
   "source": [
    "# Libraries"
   ]
  },
  {
   "cell_type": "code",
   "execution_count": 1,
   "id": "0f0a9b0b-b421-4981-887f-0a43cde4dcc6",
   "metadata": {},
   "outputs": [],
   "source": [
    "import collections\n",
    "import os\n",
    "\n",
    "import tqdm\n",
    "import pandas as pd\n",
    "import numpy as np\n",
    "import glob\n",
    "import matplotlib.pyplot as plt\n",
    "\n",
    "\n",
    "import gensim\n",
    "import gensim.corpora as corpora\n",
    "from gensim.models import LdaMulticore"
   ]
  },
  {
   "cell_type": "markdown",
   "id": "e5d346a8-c14d-4944-b58c-773737cc451c",
   "metadata": {},
   "source": [
    "# QOL Settings"
   ]
  },
  {
   "cell_type": "code",
   "execution_count": 2,
   "id": "6dfe85c8-319c-44c6-bd9c-61d4914775da",
   "metadata": {},
   "outputs": [],
   "source": [
    "%config Completer.use_jedi = False"
   ]
  },
  {
   "cell_type": "markdown",
   "id": "2d03478e-1bdc-4da4-91ec-77de32e5b216",
   "metadata": {},
   "source": [
    "# Config"
   ]
  },
  {
   "cell_type": "code",
   "execution_count": 27,
   "id": "2c271cbb-c651-4c5e-a108-17521498ed9d",
   "metadata": {},
   "outputs": [],
   "source": [
    "class settings():\n",
    "    random_state=42\n",
    "    chunksize=1000\n",
    "    passes=50\n",
    "    iterations=1000\n",
    "    per_word_topics=True \n",
    "    workers=os.cpu_count()\n",
    "    minimum_probability=0.035\n",
    "    \n",
    "    min_topics=2\n",
    "    max_topics=20"
   ]
  },
  {
   "cell_type": "markdown",
   "id": "ffa730d7-f600-4394-a09f-b3b25ebed67a",
   "metadata": {},
   "source": [
    "# load Data"
   ]
  },
  {
   "cell_type": "code",
   "execution_count": 4,
   "id": "d5f84be2-13a9-4a3d-ac81-66d4b3a84843",
   "metadata": {},
   "outputs": [],
   "source": [
    "files = glob.glob('../input/feedback-prize-2021/train/*')\n",
    "stopwords = open('./stopwords.txt', 'r', encoding='utf-8').read().splitlines()"
   ]
  },
  {
   "cell_type": "markdown",
   "id": "c7c97474-8ade-4493-a963-18a43e359cea",
   "metadata": {},
   "source": [
    "# Utility Functions"
   ]
  },
  {
   "cell_type": "code",
   "execution_count": 8,
   "id": "fd53408b-1881-4449-b130-60b29475c953",
   "metadata": {},
   "outputs": [],
   "source": [
    "def preprocess_files(files, preprocessed=True):\n",
    "    for file in files:\n",
    "        file = open(file, encoding='utf-8').read()\n",
    "        if preprocessed:\n",
    "            file = file.replace(',', ' ').replace('\"', '').replace('.', '').replace(\"'\", '')\n",
    "            words = [w.lower() for w in file.split() if w.lower() not in stopwords]\n",
    "            yield(words)\n",
    "        else:\n",
    "            yield(file)"
   ]
  },
  {
   "cell_type": "markdown",
   "id": "6d32bb97-20fb-47ac-adea-05b6c32113b6",
   "metadata": {},
   "source": [
    "# Modeling Function"
   ]
  },
  {
   "cell_type": "code",
   "execution_count": 19,
   "id": "48925d38-7078-4b93-8c21-3b108857cdc0",
   "metadata": {},
   "outputs": [],
   "source": [
    "def init_model(num_topics, corpus, dictionary):\n",
    "    model = LdaMulticore(\n",
    "        corpus=corpus,\n",
    "        id2word=dictionary,\n",
    "        num_topics=num_topics, \n",
    "        random_state=settings.random_state,\n",
    "        chunksize=settings.chunksize,\n",
    "        passes=settings.passes,\n",
    "        iterations=settings.iterations,\n",
    "        workers=settings.workers,\n",
    "        minimum_probability=settings.minimum_probability)\n",
    "    \n",
    "    return model\n",
    "    \n",
    "def compute_coherence_values(dictionary, corpus, texts, stop=20, start=2):\n",
    "    coherence_values = []\n",
    "    model_list = []\n",
    "\n",
    "    for num_topics in tqdm.tqdm(range(start, stop+1)):\n",
    "        model = init_model(num_topics, corpus, dictionary)\n",
    "        model_list.append(model)\n",
    "\n",
    "        coherencemodel = gensim.models.CoherenceModel(model=model, texts=texts, dictionary=dictionary, coherence='c_v')\n",
    "        coherence_values.append(coherencemodel.get_coherence())\n",
    "\n",
    "    return model_list, coherence_values"
   ]
  },
  {
   "cell_type": "markdown",
   "id": "ad2458bb-dada-439f-883b-5443975eedae",
   "metadata": {},
   "source": [
    "# Main"
   ]
  },
  {
   "cell_type": "markdown",
   "id": "6ff10431-04a6-4cb3-9aec-1f35cdac1e0c",
   "metadata": {},
   "source": [
    "## Preprocessing"
   ]
  },
  {
   "cell_type": "code",
   "execution_count": 11,
   "id": "075ee22e-1c01-4b3a-904b-66ad78fb6d7d",
   "metadata": {},
   "outputs": [],
   "source": [
    "sentences = list(preprocess_files(files))\n",
    "\n",
    "#Create Dictionary\n",
    "dictionary = corpora.Dictionary(sentences)\n",
    "\n",
    "# Create Corpus\n",
    "texts = sentences\n",
    "\n",
    "# Term Document Frequency\n",
    "corpus = [dictionary.doc2bow(text) for text in texts]"
   ]
  },
  {
   "cell_type": "markdown",
   "id": "d167027f-36f7-40dd-9ce0-a980215c9b2e",
   "metadata": {},
   "source": [
    "## Train"
   ]
  },
  {
   "cell_type": "code",
   "execution_count": 20,
   "id": "0494fc4f-761e-478b-8888-fa0bf57dbf7d",
   "metadata": {},
   "outputs": [
    {
     "name": "stderr",
     "output_type": "stream",
     "text": [
      "100%|██████████████████████████████████████████████████████████████████████████████████| 19/19 [28:29<00:00, 90.00s/it]\n"
     ]
    }
   ],
   "source": [
    "model_list, coherence_values = compute_coherence_values(dictionary=dictionary, corpus=corpus, texts=sentences, start=settings.min_topics, stop=settings.max_topics)\n",
    "\n",
    "best_model_index = np.argmax(coherence_values)\n",
    "model_list[best_model_index].save(f'{best_model_index+settings.min_topics}_topics.model')"
   ]
  },
  {
   "cell_type": "markdown",
   "id": "c3681b96-546d-4441-a290-9074c4c0c97c",
   "metadata": {},
   "source": [
    "## Graph coherence scores"
   ]
  },
  {
   "cell_type": "code",
   "execution_count": 35,
   "id": "b355d518-022b-4d6d-b4f7-3f39e2774fd6",
   "metadata": {},
   "outputs": [
    {
     "data": {
      "image/png": "[encoded data removed]",
      "text/plain": [
       "<Figure size 432x288 with 1 Axes>"
      ]
     },
     "metadata": {
      "needs_background": "light"
     },
     "output_type": "display_data"
    }
   ],
   "source": [
    "# Show graph\n",
    "x = range(settings.min_topics, settings.max_topics+1)\n",
    "\n",
    "plt.plot(x, coherence_values, label='coherence')\n",
    "\n",
    "# best line\n",
    "plt.plot([best_model_index+start, best_model_index+start], [0, max(coherence_values)], c='r', label='best topic count')\n",
    "\n",
    "\n",
    "plt.xlabel(\"Num Topics\")\n",
    "plt.ylabel(\"Coherence score\")\n",
    "plt.legend()\n",
    "plt.xticks(x)\n",
    "plt.show()"
   ]
  },
  {
   "cell_type": "markdown",
   "id": "f1b16dbf-8ad3-4bf5-9f0e-94b982e3724b",
   "metadata": {},
   "source": [
    "## View Topics"
   ]
  },
  {
   "cell_type": "code",
   "execution_count": 36,
   "id": "96d9e5f3-5132-46ce-b4f9-6b6f82031ec2",
   "metadata": {},
   "outputs": [],
   "source": [
    "best_model = model_list[best_model_index]"
   ]
  },
  {
   "cell_type": "code",
   "execution_count": 44,
   "id": "935edd10-9db9-4839-ae21-22e6c6eb916d",
   "metadata": {},
   "outputs": [
    {
     "data": {
      "text/plain": [
       "[(0,\n",
       "  '0.058*\"community\" + 0.038*\"service\" + 0.017*\"students\" + 0.016*\"school\" + 0.015*\"kids\" + 0.009*\"helping\" + 0.009*\"work\" + 0.007*\"world\" + 0.007*\"dear\" + 0.006*\"day\"'),\n",
       " (1,\n",
       "  '0.060*\"cars\" + 0.054*\"car\" + 0.037*\"driverless\" + 0.021*\"driving\" + 0.018*\"driver\" + 0.015*\"drive\" + 0.010*\"road\" + 0.010*\"technology\" + 0.009*\"drivers\" + 0.008*\"accidents\"'),\n",
       " (2,\n",
       "  '0.026*\"car\" + 0.025*\"cars\" + 0.011*\"seagoing\" + 0.011*\"usage\" + 0.010*\"world\" + 0.009*\"air\" + 0.009*\"pollution\" + 0.009*\"day\" + 0.008*\"smog\" + 0.008*\"animals\"'),\n",
       " (3,\n",
       "  '0.044*\"driving\" + 0.040*\"phone\" + 0.028*\"phones\" + 0.024*\"cell\" + 0.017*\"texting\" + 0.010*\"drivers\" + 0.009*\"states\" + 0.009*\"text\" + 0.008*\"distracted\" + 0.007*\"road\"'),\n",
       " (4,\n",
       "  '0.061*\"electoral\" + 0.052*\"vote\" + 0.049*\"college\" + 0.037*\"president\" + 0.023*\"electors\" + 0.023*\"votes\" + 0.022*\"states\" + 0.018*\"popular\" + 0.016*\"election\" + 0.016*\"state\"'),\n",
       " (5,\n",
       "  '0.066*\"face\" + 0.043*\"mars\" + 0.023*\"landform\" + 0.023*\"aliens\" + 0.020*\"natural\" + 0.018*\"nasa\" + 0.017*\"picture\" + 0.015*\"alien\" + 0.010*\"mesa\" + 0.009*\"life\"'),\n",
       " (6,\n",
       "  '0.062*\"advice\" + 0.033*\"person\" + 0.029*\"multiple\" + 0.029*\"opinions\" + 0.020*\"choice\" + 0.019*\"decision\" + 0.017*\"opinion\" + 0.010*\"situation\" + 0.010*\"friends\" + 0.010*\"generic_name\"'),\n",
       " (7,\n",
       "  '0.044*\"students\" + 0.030*\"school\" + 0.020*\"activities\" + 0.017*\"sports\" + 0.016*\"extracurricular\" + 0.015*\"student\" + 0.014*\"activity\" + 0.012*\"technology\" + 0.011*\"kids\" + 0.010*\"emotions\"'),\n",
       " (8,\n",
       "  '0.079*\"venus\" + 0.027*\"planet\" + 0.026*\"author\" + 0.022*\"earth\" + 0.010*\"humans\" + 0.010*\"surface\" + 0.009*\"dangers\" + 0.008*\"conditions\" + 0.008*\"study\" + 0.008*\"studying\"'),\n",
       " (9,\n",
       "  '0.070*\"students\" + 0.033*\"summer\" + 0.032*\"project\" + 0.031*\"projects\" + 0.026*\"school\" + 0.021*\"student\" + 0.020*\"teachers\" + 0.018*\"phones\" + 0.014*\"teacher\" + 0.013*\"class\"'),\n",
       " (10,\n",
       "  '0.064*\"students\" + 0.044*\"school\" + 0.028*\"online\" + 0.026*\"home\" + 0.026*\"classes\" + 0.021*\"learning\" + 0.017*\"work\" + 0.015*\"student\" + 0.012*\"class\" + 0.011*\"learn\"')]"
      ]
     },
     "execution_count": 44,
     "metadata": {},
     "output_type": "execute_result"
    }
   ],
   "source": [
    "model_list[9].print_topics()"
   ]
  },
  {
   "cell_type": "code",
   "execution_count": null,
   "id": "c5eb0b8c-73a8-411b-ada9-c40a9d8ea096",
   "metadata": {},
   "outputs": [],
   "source": []
  }
 ],
 "metadata": {
  "kernelspec": {
   "display_name": "Python 3",
   "language": "python",
   "name": "python3"
  },
  "language_info": {
   "codemirror_mode": {
    "name": "ipython",
    "version": 3
   },
   "file_extension": ".py",
   "mimetype": "text/x-python",
   "name": "python",
   "nbconvert_exporter": "python",
   "pygments_lexer": "ipython3",
   "version": "3.8.5"
  },
  "toc-autonumbering": true
 },
 "nbformat": 4,
 "nbformat_minor": 5
}
